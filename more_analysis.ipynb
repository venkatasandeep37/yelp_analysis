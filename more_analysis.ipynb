{
 "cells": [
  {
   "cell_type": "code",
   "execution_count": 1,
   "id": "d75ac03f",
   "metadata": {},
   "outputs": [],
   "source": [
    "#import findspark\n",
    "import findspark\n",
    "findspark.init()"
   ]
  },
  {
   "cell_type": "code",
   "execution_count": 2,
   "id": "ee5bcae0",
   "metadata": {},
   "outputs": [],
   "source": [
    "\n",
    "from pyspark import SparkConf, SparkContext\n",
    "from pyspark.sql import SparkSession\n",
    "from pyspark.sql.types import *\n",
    "import pyspark.sql.functions as F\n",
    "import string\n",
    "import re\n",
    "import pyspark\n",
    "import matplotlib.pyplot as plt\n",
    "from pyspark.sql.functions import mean, stddev, col, abs, split, explode\n",
    "from pyspark.sql import functions as F\n",
    "\n",
    "\n",
    "from pyspark.ml.feature import IDF,Tokenizer, CountVectorizer, CountVectorizer,StringIndexer,StopWordsRemover\n",
    "from pyspark.ml.evaluation import MulticlassClassificationEvaluator\n",
    "from pyspark.ml.feature import * \n",
    "\n"
   ]
  },
  {
   "cell_type": "code",
   "execution_count": 3,
   "id": "0c59e020",
   "metadata": {},
   "outputs": [
    {
     "name": "stderr",
     "output_type": "stream",
     "text": [
      "Setting default log level to \"WARN\".\n",
      "To adjust logging level use sc.setLogLevel(newLevel). For SparkR, use setLogLevel(newLevel).\n"
     ]
    },
    {
     "name": "stdout",
     "output_type": "stream",
     "text": [
      "22/11/28 01:01:04 WARN NativeCodeLoader: Unable to load native-hadoop library for your platform... using builtin-java classes where applicable\n",
      "22/11/28 01:01:05 WARN Utils: Service 'SparkUI' could not bind on port 4040. Attempting port 4041.\n",
      "22/11/28 01:01:05 WARN Utils: Service 'SparkUI' could not bind on port 4041. Attempting port 4042.\n",
      "22/11/28 01:01:05 WARN Utils: Service 'SparkUI' could not bind on port 4042. Attempting port 4043.\n",
      "22/11/28 01:01:05 WARN Utils: Service 'SparkUI' could not bind on port 4043. Attempting port 4044.\n",
      "22/11/28 01:01:05 WARN Utils: Service 'SparkUI' could not bind on port 4044. Attempting port 4045.\n",
      "22/11/28 01:01:05 WARN Utils: Service 'SparkUI' could not bind on port 4045. Attempting port 4046.\n"
     ]
    }
   ],
   "source": [
    "conf = SparkConf().setMaster(\"local[*]\")\n",
    "sc = SparkContext(conf = conf)\n",
    "spark = SparkSession(sc)\n",
    "\n"
   ]
  },
  {
   "cell_type": "code",
   "execution_count": 4,
   "id": "3f96304f",
   "metadata": {},
   "outputs": [
    {
     "name": "stdout",
     "output_type": "stream",
     "text": [
      "22/11/28 01:01:10 WARN SparkSession: Using an existing Spark session; only runtime SQL configurations will take effect.\n"
     ]
    }
   ],
   "source": [
    "## creating sparksession and giving an app name\n",
    "spark = SparkSession(sc).builder.appName('sparkdf').getOrCreate()\n",
    "spark.sparkContext.setLogLevel(\"ERROR\")\n",
    "\n"
   ]
  },
  {
   "cell_type": "code",
   "execution_count": 5,
   "id": "dbd6b0b8",
   "metadata": {},
   "outputs": [
    {
     "name": "stderr",
     "output_type": "stream",
     "text": [
      "                                                                                \r"
     ]
    },
    {
     "name": "stdout",
     "output_type": "stream",
     "text": [
      "+--------------------+--------------------+\n",
      "|         business_id|          categories|\n",
      "+--------------------+--------------------+\n",
      "|kCoE3jvEtg6UVz5SO...|Real Estate Services|\n",
      "|kCoE3jvEtg6UVz5SO...|         Real Estate|\n",
      "|kCoE3jvEtg6UVz5SO...|       Home Services|\n",
      "|kCoE3jvEtg6UVz5SO...| Property Management|\n",
      "|xcgFnd-MwkZeO5G2H...|            Bakeries|\n",
      "|xcgFnd-MwkZeO5G2H...|              Bagels|\n",
      "|xcgFnd-MwkZeO5G2H...|                Food|\n",
      "|fNMVV_ZX7CJSDWQGd...|         Restaurants|\n",
      "|fNMVV_ZX7CJSDWQGd...|American (Traditi...|\n",
      "|l09JfMeQ6ynYs5MCJ...|             Italian|\n",
      "+--------------------+--------------------+\n",
      "only showing top 10 rows\n",
      "\n"
     ]
    }
   ],
   "source": [
    "#reading a sample file\n",
    "yelp_reviews=spark.read.format(\"csv\").option(\"quote\", \"\\\"\").option(\"escape\", \"\\\"\").option('multiLine', True).option(\"encoding\", \"ISO-8859-1\").option(\"header\", \"true\").load(\"yelp_review.csv\")\n",
    "df_business = spark.read.format(\"csv\").option(\"quote\", \"\\\"\").option(\"escape\", \"\\\"\").option('multiLine', True).option(\"encoding\", \"ISO-8859-1\").option(\"header\", \"true\").load(\"yelp_business.csv\")\n",
    "df_business=df_business.na.drop(how='any')\n",
    "df_business.select('business_id','categories').withColumn(\"categories\", explode(split(\"categories\", \";\"))).show(10)\n",
    "\n"
   ]
  },
  {
   "cell_type": "code",
   "execution_count": 6,
   "id": "9d0a1fd6",
   "metadata": {},
   "outputs": [
    {
     "name": "stdout",
     "output_type": "stream",
     "text": [
      "****************Unique Categories********************************\n",
      "\n"
     ]
    },
    {
     "name": "stderr",
     "output_type": "stream",
     "text": [
      "\r",
      "[Stage 3:>                                                          (0 + 1) / 1]\r"
     ]
    },
    {
     "name": "stdout",
     "output_type": "stream",
     "text": [
      "Unique: 33316\n",
      "\n",
      "\n",
      "****************Unique Categories********************************\n",
      "\n"
     ]
    },
    {
     "name": "stderr",
     "output_type": "stream",
     "text": [
      "\r",
      "                                                                                \r"
     ]
    }
   ],
   "source": [
    "##  Unique Business Categories\n",
    "\n",
    "print(\"****************Unique Categories********************************\\n\")\n",
    "unique_categories = df_business.select('business_id','categories').withColumn(\"categories\", explode(split(\"categories\", \", \"))).select('categories').distinct().count()\n",
    "print(f'Unique: {unique_categories}')\n",
    "print(\"\\n\")\n",
    "\n",
    "print(\"****************Unique Categories********************************\\n\")\n",
    "\n"
   ]
  },
  {
   "cell_type": "code",
   "execution_count": 7,
   "id": "f6676162",
   "metadata": {},
   "outputs": [
    {
     "name": "stdout",
     "output_type": "stream",
     "text": [
      "+--------------------+\n",
      "|          categories|\n",
      "+--------------------+\n",
      "|Real Estate Servi...|\n",
      "|Bakeries;Bagels;Food|\n",
      "|Restaurants;Ameri...|\n",
      "|Italian;French;Re...|\n",
      "|   Food;Coffee & Tea|\n",
      "|Bars;Sports Bars;...|\n",
      "|Tiki Bars;Nightli...|\n",
      "|Shopping;Jewelry;...|\n",
      "|Coffee & Tea;Food...|\n",
      "|Arts & Entertainm...|\n",
      "|Hair Salons;Blow ...|\n",
      "|Home Services;Lig...|\n",
      "|Tanning;Day Spas;...|\n",
      "| Italian;Restaurants|\n",
      "|Hotels & Travel;C...|\n",
      "|Nightlife;Bars;Ba...|\n",
      "|Fast Food;Restaur...|\n",
      "|Arcades;Arts & En...|\n",
      "| Restaurants;Mexican|\n",
      "|Active Life;Fitne...|\n",
      "+--------------------+\n",
      "only showing top 20 rows\n",
      "\n"
     ]
    }
   ],
   "source": [
    "df_business.select(\"categories\").show()"
   ]
  },
  {
   "cell_type": "code",
   "execution_count": null,
   "id": "6857f62f",
   "metadata": {},
   "outputs": [],
   "source": []
  }
 ],
 "metadata": {
  "kernelspec": {
   "display_name": "Python 3 (ipykernel)",
   "language": "python",
   "name": "python3"
  },
  "language_info": {
   "codemirror_mode": {
    "name": "ipython",
    "version": 3
   },
   "file_extension": ".py",
   "mimetype": "text/x-python",
   "name": "python",
   "nbconvert_exporter": "python",
   "pygments_lexer": "ipython3",
   "version": "3.9.12"
  }
 },
 "nbformat": 4,
 "nbformat_minor": 5
}
