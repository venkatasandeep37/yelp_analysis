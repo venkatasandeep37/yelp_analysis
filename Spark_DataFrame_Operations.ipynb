{
 "cells": [
  {
   "cell_type": "code",
   "execution_count": 1,
   "id": "09f84761",
   "metadata": {},
   "outputs": [],
   "source": [
    "#import findspark\n",
    "import findspark\n",
    "findspark.init()"
   ]
  },
  {
   "cell_type": "code",
   "execution_count": 2,
   "id": "467a36ae",
   "metadata": {},
   "outputs": [],
   "source": [
    "from pyspark.context import SparkContext\n",
    "from pyspark.sql.session import SparkSession\n",
    "from pyspark import SparkConf\n",
    "\n",
    "#from pyspark.ml.feature import Tokenizer, HashingTF, IDF \n",
    "#from pyspark.ml.classification import LogisticRegression\n",
    "#from pyspark.ml import Pipeline\n",
    "from pyspark.sql.functions import col\n",
    "\n",
    "\n",
    "from pyspark.sql.types import *\n",
    "from pyspark.sql.functions import *\n",
    "from pyspark.ml.classification import LogisticRegression\n",
    "from pyspark.ml.feature import HashingTF, Tokenizer, StopWordsRemover\n",
    "from pyspark.sql.functions import split,explode\n"
   ]
  },
  {
   "cell_type": "code",
   "execution_count": 3,
   "id": "ce642c62",
   "metadata": {},
   "outputs": [],
   "source": [
    "conf = SparkConf().setMaster(\"local[*]\").set(\"spark.executer.memory\", \"3g\")\n"
   ]
  },
  {
   "cell_type": "code",
   "execution_count": 4,
   "id": "9bdf7209",
   "metadata": {},
   "outputs": [
    {
     "name": "stderr",
     "output_type": "stream",
     "text": [
      "Setting default log level to \"WARN\".\n",
      "To adjust logging level use sc.setLogLevel(newLevel). For SparkR, use setLogLevel(newLevel).\n"
     ]
    },
    {
     "name": "stdout",
     "output_type": "stream",
     "text": [
      "22/11/28 02:47:22 WARN NativeCodeLoader: Unable to load native-hadoop library for your platform... using builtin-java classes where applicable\n",
      "22/11/28 02:47:23 WARN Utils: Service 'SparkUI' could not bind on port 4040. Attempting port 4041.\n",
      "22/11/28 02:47:23 WARN Utils: Service 'SparkUI' could not bind on port 4041. Attempting port 4042.\n",
      "22/11/28 02:47:23 WARN Utils: Service 'SparkUI' could not bind on port 4042. Attempting port 4043.\n",
      "22/11/28 02:47:23 WARN Utils: Service 'SparkUI' could not bind on port 4043. Attempting port 4044.\n",
      "22/11/28 02:47:23 WARN Utils: Service 'SparkUI' could not bind on port 4044. Attempting port 4045.\n",
      "22/11/28 02:47:23 WARN Utils: Service 'SparkUI' could not bind on port 4045. Attempting port 4046.\n",
      "22/11/28 02:47:23 WARN Utils: Service 'SparkUI' could not bind on port 4046. Attempting port 4047.\n"
     ]
    }
   ],
   "source": [
    "sc = SparkContext(conf = conf)\n",
    "spark = SparkSession(sc)\n",
    "spark = SparkSession(sc).builder.getOrCreate()\n",
    "spark.sparkContext.setLogLevel(\"ERROR\")\n",
    "\n"
   ]
  },
  {
   "cell_type": "code",
   "execution_count": 6,
   "id": "7fe4f765",
   "metadata": {},
   "outputs": [
    {
     "name": "stdout",
     "output_type": "stream",
     "text": [
      "root\n",
      " |-- review_id: string (nullable = true)\n",
      " |-- user_id: string (nullable = true)\n",
      " |-- business_id_rev: string (nullable = true)\n",
      " |-- stars_rev: string (nullable = true)\n",
      " |-- date: string (nullable = true)\n",
      " |-- text: string (nullable = true)\n",
      " |-- useful: string (nullable = true)\n",
      " |-- funny: string (nullable = true)\n",
      " |-- cool: string (nullable = true)\n",
      "\n",
      "+--------------------+--------------------+--------------------+---------+----------+--------------------+------+-----+----+\n",
      "|           review_id|             user_id|     business_id_rev|stars_rev|      date|                text|useful|funny|cool|\n",
      "+--------------------+--------------------+--------------------+---------+----------+--------------------+------+-----+----+\n",
      "|vkVSCC7xljjrAI4UG...|bv2nCi5Qv5vroFiqK...|AEx2SYEUJmTxVVB18...|        5|2016-05-28|Super simple plac...|     0|    0|   0|\n",
      "|n6QzIUObkYshz4dz2...|bv2nCi5Qv5vroFiqK...|VR6GpWIda3SfvPC-l...|        5|2016-05-28|Small unassuming ...|     0|    0|   0|\n",
      "|MV3CcKScW05u5LVfF...|bv2nCi5Qv5vroFiqK...|CKC0-MOWMqoeWf6s-...|        5|2016-05-28|Lester's is locat...|     0|    0|   0|\n",
      "|IXvOzsEMYtiJI0CAR...|bv2nCi5Qv5vroFiqK...|ACFtxLv8pGrrxMm6E...|        4|2016-05-28|Love coming here....|     0|    0|   0|\n",
      "|L_9BTb55X0GDtThi6...|bv2nCi5Qv5vroFiqK...|s2I_Ni76bjJNK9yG6...|        4|2016-05-28|Had their chocola...|     0|    0|   0|\n",
      "|HRPm3vEZ_F-33TYVT...|_4iMDXbXZ1p1ONG29...|8QWPlVQ6D-OExqXoa...|        5|2014-09-24|Cycle Pub Las Veg...|     1|    0|   0|\n",
      "|ymAUG8DZfQcFTBSOi...|u0LXt3Uea_GidxRW1...|9_CGhHMz8698M9-Pk...|        4|2012-05-11|Who would have gu...|     0|    0|   2|\n",
      "|8UIishPUD92hXtScS...|u0LXt3Uea_GidxRW1...|gkCorLgPyQLsptTHa...|        4|2015-10-27|Always drove past...|     1|    0|   0|\n",
      "|w41ZS9shepfO3uEyh...|u0LXt3Uea_GidxRW1...|5r6-G9C4YLbC7Ziz5...|        3|2013-02-09|Not bad!! Love th...|     1|    0|   0|\n",
      "|WF_QTN3p-thD74hqp...|u0LXt3Uea_GidxRW1...|fDF_o2JPU8BR1Gya-...|        5|2016-04-06|Love this place!\\...|     3|    0|   0|\n",
      "|PIsUSmvaUWB00qv5K...|u0LXt3Uea_GidxRW1...|z8oIoCT1cXz7gZP5G...|        4|2013-05-01|This is currently...|     1|    0|   0|\n",
      "|PdZ_uFjbbkjtm3SCY...|u0LXt3Uea_GidxRW1...|XWTPNfskXoUL-Lf32...|        3|2011-09-28|Server was a litt...|     5|    0|   1|\n",
      "|x5oV6wm9_Pb1QQ6jk...|u0LXt3Uea_GidxRW1...|13nKUHH-uEUXVZylg...|        1|2011-02-16|I thought Tidy's ...|     9|    0|   1|\n",
      "|lsoSqIrrDbQvWpMvs...|u0LXt3Uea_GidxRW1...|RtUvSWO_UZ8V3Wpj0...|        3|2012-12-03|Wanted to check o...|     2|    1|   1|\n",
      "|23eqwlZzCWZkADWfd...|u0LXt3Uea_GidxRW1...|Aov96CM4FZAXeZvKt...|        5|2010-07-16|This place is awe...|     2|    0|   1|\n",
      "|FunI9om-aK5oMIIJm...|u0LXt3Uea_GidxRW1...|0W4lkclzZThpx3V65...|        4|2011-09-28|a must stop when ...|     0|    0|   0|\n",
      "|FKu4iU62EmWT6GZXP...|u0LXt3Uea_GidxRW1...|fdnNZMk1NP7ZhL-YM...|        1|2012-10-23|I too have been t...|     0|    0|   0|\n",
      "|xdu8nXrbNKeaywCX7...|u0LXt3Uea_GidxRW1...|PFPUMF38-lraKzLcT...|        3|2010-09-15|Came here with my...|     2|    0|   0|\n",
      "|K7o5jDInfmX3cY5oH...|u0LXt3Uea_GidxRW1...|oWTn2IzrprsRkPfUL...|        3|2012-09-23|Came here for a b...|     4|    0|   0|\n",
      "|WYDFJOBOl7cycd7gN...|u0LXt3Uea_GidxRW1...|zgQHtqX0gqMw1nlBZ...|        1|2012-10-30|really excited to...|     9|    2|   1|\n",
      "+--------------------+--------------------+--------------------+---------+----------+--------------------+------+-----+----+\n",
      "only showing top 20 rows\n",
      "\n"
     ]
    }
   ],
   "source": [
    "#1. Clean the dataset\n",
    "\n",
    "yelp_rev = spark.read.format(\"csv\").option(\"quote\", \"\\\"\").option(\"escape\", \"\\\"\").option('multiLine', True).option(\"encoding\", \"ISO-8859-1\").option(\"header\", \"true\").load(\"yelp_review.csv\")\n",
    "yelp_rev = yelp_rev.withColumnRenamed(\"business_id\",\"business_id_rev\")\n",
    "yelp_rev = yelp_rev.withColumnRenamed(\"stars\",\"stars_rev\")\n",
    "yelp_rev.printSchema()\n",
    "#yelp_rev.show()\n",
    "\n"
   ]
  },
  {
   "cell_type": "code",
   "execution_count": 8,
   "id": "27d93b50",
   "metadata": {},
   "outputs": [
    {
     "name": "stdout",
     "output_type": "stream",
     "text": [
      "root\n",
      " |-- business_id_biz: string (nullable = true)\n",
      " |-- name: string (nullable = true)\n",
      " |-- neighborhood: string (nullable = true)\n",
      " |-- address: string (nullable = true)\n",
      " |-- city: string (nullable = true)\n",
      " |-- state: string (nullable = true)\n",
      " |-- postal_code: string (nullable = true)\n",
      " |-- latitude: string (nullable = true)\n",
      " |-- longitude: string (nullable = true)\n",
      " |-- stars_biz: string (nullable = true)\n",
      " |-- review_count: string (nullable = true)\n",
      " |-- is_open: string (nullable = true)\n",
      " |-- categories: string (nullable = true)\n",
      "\n",
      "+--------------------+--------------------+------------------+--------------------+--------------+-----+-----------+-------------+--------------+---------+------------+-------+--------------------+\n",
      "|     business_id_biz|                name|      neighborhood|             address|          city|state|postal_code|     latitude|     longitude|stars_biz|review_count|is_open|          categories|\n",
      "+--------------------+--------------------+------------------+--------------------+--------------+-----+-----------+-------------+--------------+---------+------------+-------+--------------------+\n",
      "|FYWN1wneV18bWNgQj...|  \"Dental by Design\"|              null|\"4855 E Warner Rd...|     Ahwatukee|   AZ|      85044|   33.3306902|  -111.9785992|      4.0|          22|      1|Dentists;General ...|\n",
      "|He-G7vWjzVUysIKrf...|\"Stephen Szabo Sa...|              null|\"3101 Washington Rd\"|      McMurray|   PA|      15317|   40.2916853|   -80.1048999|      3.0|          11|      1|Hair Stylists;Hai...|\n",
      "|KQPW8lFf1y5BT2Mxi...|\"Western Motor Ve...|              null|\"6025 N 27th Ave,...|       Phoenix|   AZ|      85017|   33.5249025|  -112.1153098|      1.5|          18|      1|Departments of Mo...|\n",
      "|8DShNS-LuFqpEWIp0...|  \"Sports Authority\"|              null|\"5000 Arizona Mil...|         Tempe|   AZ|      85282|   33.3831468|  -111.9647254|      3.0|           9|      0|Sporting Goods;Sh...|\n",
      "|PfOCPjBrlQAnz__NX...|\"Brick House Tave...|              null|      \"581 Howe Ave\"|Cuyahoga Falls|   OH|      44221|   41.1195346|   -81.4756898|      3.5|         116|      1|American (New);Ni...|\n",
      "|o9eMRCWt5PkpLDE0g...|           \"Messina\"|              null|    \"Richterstr. 11\"|     Stuttgart|   BW|      70567|      48.7272|       9.14795|      4.0|           5|      1| Italian;Restaurants|\n",
      "|kCoE3jvEtg6UVz5SO...|        \"BDJ Realty\"|         Summerlin|\"2620 Regatta Dr,...|     Las Vegas|   NV|      89128|     36.20743|    -115.26846|      4.0|           5|      1|Real Estate Servi...|\n",
      "|OD2hnuuTJI9uotcKy...|       \"Soccer Zone\"|              null|\"7240 W Lake Mead...|     Las Vegas|   NV|      89128|   36.1974844|  -115.2496601|      1.5|           9|      1|Shopping;Sporting...|\n",
      "|EsMcGiZaQuG1OOvL9...|  \"Any Given Sundae\"|              null|\"2612 Brandt Scho...|       Wexford|   PA|      15090|40.6151022445|-80.0913487465|      5.0|          15|      1|Coffee & Tea;Ice ...|\n",
      "|TGWhGNusxyMaA4kQV...|\"Detailing Gone M...|              null|                  \"\"|     Henderson|   NV|      89014|36.0558252127| -115.04635039|      5.0|           7|      1|Automotive;Auto D...|\n",
      "|XOSRcvtaKc_Q5H1SA...| \"East Coast Coffee\"|              null|  \"737 West Pike St\"|       Houston|   PA|      15342|40.2415480142|-80.2128151059|      4.5|           3|      0|Breakfast & Brunc...|\n",
      "|Y0eMNa5C-YU1RQOZf...|\"CubeSmart Self S...|              null|\"2414 South Gilbe...|      Chandler|   AZ|      85286|   33.2717201|  -111.7912569|      5.0|          23|      1|Local Services;Se...|\n",
      "|xcgFnd-MwkZeO5G2H...|\"T & T Bakery and...|   Markham Village|  \"35 Main Street N\"|       Markham|   ON|    L3P 1X3|   43.8751774|   -79.2601532|      4.0|          38|      1|Bakeries;Bagels;Food|\n",
      "|NmZtoE3v8RdSJEczY...|\"Complete Dental ...|              null|  \"107 Whitaker Str\"|     Homestead|   PA|      15120|   40.4014882|   -79.8879161|      2.0|           5|      1|General Dentistry...|\n",
      "|fNMVV_ZX7CJSDWQGd...|\"Showmars Governm...|            Uptown|      \"600 E 4th St\"|     Charlotte|   NC|      28202|   35.2216474|   -80.8393449|      3.5|           7|      1|Restaurants;Ameri...|\n",
      "|l09JfMeQ6ynYs5MCJ...|    \"Alize Catering\"|Yonge and Eglinton|     \"2459 Yonge St\"|       Toronto|   ON|    M4P 2H6|   43.7113993|   -79.3993388|      3.0|          12|      0|Italian;French;Re...|\n",
      "|IQSlT5jGE6CCDhSG0...|    \"T & Y Nail Spa\"|              null|\"8411 W Thunderbi...|        Peoria|   AZ|      85381|   33.6086538|  -112.2400118|      3.0|          20|      1|Beauty & Spas;Nai...|\n",
      "|b2I2DXtZVnpUMCXp1...|\"Meineke Car Care...|              null|  \"2518 Ironwood Dr\"|   Sun Prairie|   WI|      53590|     43.18508|    -89.262047|      3.5|           9|      1|Tires;Oil Change ...|\n",
      "|0FMKDOU8TJT1x87OK...|\"Senior's Barber ...|              null|  \"13375 W McDowell\"|      Goodyear|   AZ|      85395|    33.463629|   -112.347038|      5.0|          65|      1|Barbers;Beauty & ...|\n",
      "|Gu-xs3NIQTj3Mj2xY...|\"Maxim Bakery & R...|              null|\"9665 Bayview Ave...| Richmond Hill|   ON|    L4C 9V4|   43.8675648|   -79.4126618|      3.5|          34|      1|French;Food;Baker...|\n",
      "+--------------------+--------------------+------------------+--------------------+--------------+-----+-----------+-------------+--------------+---------+------------+-------+--------------------+\n",
      "only showing top 20 rows\n",
      "\n"
     ]
    }
   ],
   "source": [
    "yelp_biz = spark.read.format(\"csv\").option(\"quote\", \"\\\"\").option(\"escape\", \"\\\"\").option('multiLine', True).option(\"encoding\", \"ISO-8859-1\").option(\"header\", \"true\").load(\"yelp_business.csv\")\n",
    "yelp_biz = yelp_biz.withColumnRenamed(\"business_id\",\"business_id_biz\")\n",
    "yelp_biz = yelp_biz.withColumnRenamed(\"stars\",\"stars_biz\")\n",
    "yelp_biz.printSchema()\n",
    "#yelp_biz.show()"
   ]
  },
  {
   "cell_type": "code",
   "execution_count": 9,
   "id": "73a45e61",
   "metadata": {},
   "outputs": [
    {
     "name": "stdout",
     "output_type": "stream",
     "text": [
      "root\n",
      " |-- review_id: string (nullable = true)\n",
      " |-- user_id: string (nullable = true)\n",
      " |-- business_id_rev: string (nullable = true)\n",
      " |-- stars_rev: string (nullable = true)\n",
      " |-- date: string (nullable = true)\n",
      " |-- text: string (nullable = true)\n",
      " |-- useful: string (nullable = true)\n",
      " |-- funny: string (nullable = true)\n",
      " |-- cool: string (nullable = true)\n",
      " |-- business_id_biz: string (nullable = true)\n",
      " |-- name: string (nullable = true)\n",
      " |-- neighborhood: string (nullable = true)\n",
      " |-- address: string (nullable = true)\n",
      " |-- city: string (nullable = true)\n",
      " |-- state: string (nullable = true)\n",
      " |-- postal_code: string (nullable = true)\n",
      " |-- latitude: string (nullable = true)\n",
      " |-- longitude: string (nullable = true)\n",
      " |-- stars_biz: string (nullable = true)\n",
      " |-- review_count: string (nullable = true)\n",
      " |-- is_open: string (nullable = true)\n",
      " |-- categories: string (nullable = true)\n",
      "\n"
     ]
    }
   ],
   "source": [
    "biz_rev = yelp_rev.join(yelp_biz,yelp_biz.business_id_biz ==  yelp_rev.business_id_rev,\"inner\")#.show(truncate=False)\n",
    "biz_rev.printSchema()\n",
    "\n"
   ]
  },
  {
   "cell_type": "code",
   "execution_count": 11,
   "id": "2f37b60d",
   "metadata": {},
   "outputs": [
    {
     "name": "stderr",
     "output_type": "stream",
     "text": [
      "                                                                                \r"
     ]
    },
    {
     "name": "stdout",
     "output_type": "stream",
     "text": [
      "+--------------------+--------------------+--------------------+---------+--------------------+------+-----+----+--------------------+-----+---------+--------------------+----------------+\n",
      "|           review_id|             user_id|     business_id_rev|stars_rev|                text|useful|funny|cool|          categories|state|     city|          categories|stars_rev_double|\n",
      "+--------------------+--------------------+--------------------+---------+--------------------+------+-----+----+--------------------+-----+---------+--------------------+----------------+\n",
      "|PIsUSmvaUWB00qv5K...|u0LXt3Uea_GidxRW1...|z8oIoCT1cXz7gZP5G...|        4|This is currently...|     1|    0|   0|Dim Sum;Restauran...|   ON|  Toronto|Dim Sum;Restauran...|             4.0|\n",
      "|23eqwlZzCWZkADWfd...|u0LXt3Uea_GidxRW1...|Aov96CM4FZAXeZvKt...|        5|This place is awe...|     2|    0|   1|Imported Food;Foo...|   ON|  Toronto|Imported Food;Foo...|             5.0|\n",
      "|Tv-_7d1sa-6cPTZ20...|u0LXt3Uea_GidxRW1...|7Uti5EeAwm3drG14K...|        2|Atmosphere for th...|     8|    0|   0| Restaurants;Italian|   ON|  Toronto| Restaurants;Italian|             2.0|\n",
      "|zo84NPvoDgm1W9poS...|u0LXt3Uea_GidxRW1...|3vs6rARRBm-O99y4b...|        4|Great Japanese re...|     2|    0|   0|Restaurants;Japanese|   ON|  Toronto|Restaurants;Japanese|             4.0|\n",
      "|jREsaout3cuhKbROV...|u0LXt3Uea_GidxRW1...|I44P6Pfoey2pArOhh...|        4|Cute little hole ...|     0|    0|   0|Restaurants;Japanese|   ON|  Toronto|Restaurants;Japanese|             4.0|\n",
      "|QYw2OurOBplkQRCpY...|nOTl4aPC4tKHK35T3...|XCxxPZ3Lu5mwmIo7I...|        4|This place is alw...|     0|    0|   0|Restaurants;Korea...|   ON|  Markham|Restaurants;Korea...|             4.0|\n",
      "|3YpTbDtxrFy4agErr...|tL2pS5UOmN6aAOi3Z...|i8hkzA5eiUXgbPjN8...|        4|Recently had dinn...|     0|    0|   1| Mexican;Restaurants|   NV|Henderson| Mexican;Restaurants|             4.0|\n",
      "|zfHtu9CnaOwa2FqM0...|tL2pS5UOmN6aAOi3Z...|94BEy7wGKmrOC7sjS...|        4|When I'm looking ...|     3|    3|   1|Arts & Entertainm...|   NV|Las Vegas|Arts & Entertainm...|             4.0|\n",
      "|drJ1crfdfmuuie6vx...|tL2pS5UOmN6aAOi3Z...|XXW_OFaYQkkGOGniu...|        5|I've been here a ...|     0|    0|   0|Bars;American (Tr...|   NV|Las Vegas|Bars;American (Tr...|             5.0|\n",
      "|Hyap_YKDQpCQLCINR...|tL2pS5UOmN6aAOi3Z...|bbHE-NRab0v-iz5FH...|        4|I've eaten here m...|     3|    0|   0|Event Planning & ...|   NV|Henderson|Event Planning & ...|             4.0|\n",
      "|6mTyO-mDDsPrekjUy...|tL2pS5UOmN6aAOi3Z...|yvqcZrHixuf_oIUW8...|        1|Stopped here for ...|     1|    0|   0| Restaurants;Mexican|   NV|Las Vegas| Restaurants;Mexican|             1.0|\n",
      "|hsbY0RZ2gFZiSpLtN...|Y76nS3L426UCz7N_1...|XXW_OFaYQkkGOGniu...|        4|I've been here tw...|     0|    0|   0|Bars;American (Tr...|   NV|Las Vegas|Bars;American (Tr...|             4.0|\n",
      "|ML1XfdKtVfFWk44_w...|Y76nS3L426UCz7N_1...|DESv2ys6SjBKA4SyD...|        4|I haven't had any...|     2|    0|   2|Italian;Restauran...|   NV|Las Vegas|Italian;Restauran...|             4.0|\n",
      "|RmeFNIqWYW3umoYPd...|Y76nS3L426UCz7N_1...|tcfL9_Qe-12eX4rdm...|        5|I really enjoyed ...|     0|    0|   0|Asian Fusion;Nigh...|   NV|Henderson|Asian Fusion;Nigh...|             5.0|\n",
      "|p8rFUdKSHEwQvvDY8...|Y76nS3L426UCz7N_1...|OFw59czUoeeosFMKf...|        4|Have been here a ...|     0|    0|   0|Nightlife;Breweri...|   NV|Las Vegas|Nightlife;Breweri...|             4.0|\n",
      "|9uu-5i7CngMzADPV4...|3wB-JjsUjkvdNUDRn...|XXW_OFaYQkkGOGniu...|        4|This is an intere...|     8|    4|   6|Bars;American (Tr...|   NV|Las Vegas|Bars;American (Tr...|             4.0|\n",
      "|GFL29OZ8jXHSu58r-...|3wB-JjsUjkvdNUDRn...|G4X5w5vRQNEFUmrJo...|        2|The experience st...|     2|    0|   0|Nightlife;Dance C...|   AZ| Glendale|Nightlife;Dance C...|             2.0|\n",
      "|LmAnA2BLcJkW7lTjV...|3wB-JjsUjkvdNUDRn...|JsCKeWHA8n_5mFQ3F...|        3|This is a decent ...|     1|    0|   1|Desserts;Mexican;...|   NV|Las Vegas|Desserts;Mexican;...|             3.0|\n",
      "|bmAvkGmMPpScoF4OL...|chrORZZpea-iT1rbR...|7ddnq3YQSKguGK15e...|        5|Went last night f...|     0|    0|   0|American (Traditi...|   PA|  Wexford|American (Traditi...|             5.0|\n",
      "|RC7dLK8ZVOXWFymHn...|dyhTHLIf6eWBvU78Y...|eN8mkjt_q686hGKi-...|        2|This place sucks....|    12|   16|   7|Restaurants;Greek...|   AZ|    Tempe|Restaurants;Greek...|             2.0|\n",
      "+--------------------+--------------------+--------------------+---------+--------------------+------+-----+----+--------------------+-----+---------+--------------------+----------------+\n",
      "only showing top 20 rows\n",
      "\n",
      "************************\n",
      "\n"
     ]
    }
   ],
   "source": [
    "biz_rev.createOrReplaceTempView(\"final_df\")\n",
    "fin = spark.sql(\"select * from final_df where upper(name) like '%RESTAURANT%'\")\n",
    "fin = fin.select(\"review_id\",\"user_id\",\"business_id_rev\",\"stars_rev\",\"text\",\"useful\",\"funny\",\"cool\",\"categories\",\"state\",\"city\",\"categories\")\n",
    "fin1 =  fin.withColumn(\"stars_rev_double\", fin[\"stars_rev\"].cast(\"double\"))\n",
    "fin1.show()\n",
    "print(\"************************\\n\")\n",
    "\n"
   ]
  },
  {
   "cell_type": "code",
   "execution_count": 13,
   "id": "c23559ef",
   "metadata": {},
   "outputs": [
    {
     "name": "stdout",
     "output_type": "stream",
     "text": [
      "************ Popular Business Cities **************\n"
     ]
    },
    {
     "name": "stderr",
     "output_type": "stream",
     "text": [
      "\r",
      "[Stage 13:>                                                         (0 + 1) / 1]\r"
     ]
    },
    {
     "name": "stdout",
     "output_type": "stream",
     "text": [
      "+----------+----------+\n",
      "|      city|sum(count)|\n",
      "+----------+----------+\n",
      "| Las Vegas|   1604227|\n",
      "|   Phoenix|    576700|\n",
      "|   Toronto|    430985|\n",
      "|Scottsdale|    308583|\n",
      "| Charlotte|    237308|\n",
      "|Pittsburgh|    179523|\n",
      "| Henderson|    166868|\n",
      "|     Tempe|    162782|\n",
      "|      Mesa|    130886|\n",
      "| MontrÃ©al|    122613|\n",
      "+----------+----------+\n",
      "only showing top 10 rows\n",
      "\n",
      "************************\n",
      "\n"
     ]
    },
    {
     "name": "stderr",
     "output_type": "stream",
     "text": [
      "\r",
      "                                                                                \r"
     ]
    }
   ],
   "source": [
    "\n",
    "\n",
    "print(\"************ Popular Business Cities **************\") #businesses getting lot of reviews\n",
    "location = yelp_biz.select('business_id_biz','city')\n",
    "review = yelp_rev.select('business_id_rev')\n",
    "merge_city = location.join(review,review.business_id_rev == location.business_id_biz,'inner')\n",
    "grouped_review_city = merge_city.groupby('city').count()\n",
    "most_reviewed_city = grouped_review_city.groupby('city').sum()\n",
    "most_reviewed_city.sort('sum(count)',ascending=False).show(10)\n",
    "most_reviewed_city\n",
    "\n",
    "print(\"************************\\n\")\n",
    "\n"
   ]
  },
  {
   "cell_type": "code",
   "execution_count": 14,
   "id": "257ee346",
   "metadata": {},
   "outputs": [
    {
     "name": "stdout",
     "output_type": "stream",
     "text": [
      "************ Top Businesses with detailed Reviews **************\n"
     ]
    },
    {
     "name": "stderr",
     "output_type": "stream",
     "text": [
      "\r",
      "[Stage 17:>                                                         (0 + 1) / 1]\r"
     ]
    },
    {
     "name": "stdout",
     "output_type": "stream",
     "text": [
      "+--------------------+------------------+\n",
      "|            category|   avg(rev_length)|\n",
      "+--------------------+------------------+\n",
      "|Bridal;Jewelry;Sh...|            4231.0|\n",
      "|Real Estate;Unive...|3394.3333333333335|\n",
      "|Hotels & Travel;H...|3360.3333333333335|\n",
      "|Educational Servi...|            3357.0|\n",
      "|Beauty & Spas;Nai...|            3084.5|\n",
      "|Restaurants;Event...|3019.3333333333335|\n",
      "|Party Equipment R...|2934.3333333333335|\n",
      "|Shopping;Local Se...|2923.6666666666665|\n",
      "|Automotive;Real E...|           2906.75|\n",
      "|Retirement Homes;...|2886.3333333333335|\n",
      "+--------------------+------------------+\n",
      "only showing top 10 rows\n",
      "\n",
      "************************\n",
      "\n"
     ]
    },
    {
     "name": "stderr",
     "output_type": "stream",
     "text": [
      "\r",
      "                                                                                \r"
     ]
    }
   ],
   "source": [
    "print(\"************ Top Businesses with detailed Reviews **************\") \n",
    "location = yelp_biz.select('business_id_biz','categories')\n",
    "review = yelp_rev.select('business_id_rev','text')\n",
    "merge_city = location.join(review,review.business_id_rev == location.business_id_biz,'inner')\n",
    "len_rev = merge_city.select(explode(split('categories', ',')).alias('category'),'text') # merge_city.explode(split('categories', ',')).alias('category')\n",
    "len_rev = len_rev.withColumn(\"rev_length\",length(col(\"text\")))\n",
    "avg = len_rev.groupBy(\"category\").avg(\"rev_length\")\n",
    "avg.sort('avg(rev_length)',ascending=False).show(10)\n",
    "\n",
    "print(\"************************\\n\")\n",
    "\n"
   ]
  },
  {
   "cell_type": "code",
   "execution_count": 15,
   "id": "c81fd2aa",
   "metadata": {},
   "outputs": [
    {
     "name": "stdout",
     "output_type": "stream",
     "text": [
      "************ Businesses with less detailed Reviews **************\n"
     ]
    },
    {
     "name": "stderr",
     "output_type": "stream",
     "text": [
      "\r",
      "[Stage 21:>                                                         (0 + 1) / 1]\r"
     ]
    },
    {
     "name": "stdout",
     "output_type": "stream",
     "text": [
      "+--------------------+------------------+\n",
      "|            category|   avg(rev_length)|\n",
      "+--------------------+------------------+\n",
      "|Food Delivery Ser...|49.333333333333336|\n",
      "|Local Services;Pe...| 85.66666666666667|\n",
      "|Fire Departments;...| 86.66666666666667|\n",
      "|Venues & Event Sp...| 87.66666666666667|\n",
      "|Active Life;Marti...| 88.33333333333333|\n",
      "|Grocery;Food;Shop...|              90.0|\n",
      "|Auto Insurance;Ho...|              93.0|\n",
      "|Chicken Shop;Rest...|              96.0|\n",
      "|Active Life;Sport...| 97.33333333333333|\n",
      "|Laundry Services;...|             101.0|\n",
      "+--------------------+------------------+\n",
      "only showing top 10 rows\n",
      "\n",
      "************************\n",
      "\n"
     ]
    },
    {
     "name": "stderr",
     "output_type": "stream",
     "text": [
      "\r",
      "                                                                                \r"
     ]
    }
   ],
   "source": [
    "print(\"************ Businesses with less detailed Reviews **************\") \n",
    "\n",
    "location = yelp_biz.select('business_id_biz','categories')\n",
    "review = yelp_rev.select('business_id_rev','text')\n",
    "merge_city = location.join(review,review.business_id_rev == location.business_id_biz,'inner')\n",
    "len_rev = merge_city.select(explode(split('categories', ',')).alias('category'),'text') # merge_city.explode(split('categories', ',')).alias('category')\n",
    "len_rev = len_rev.withColumn(\"rev_length\",length(col(\"text\")))\n",
    "avg = len_rev.groupBy(\"category\").avg(\"rev_length\")\n",
    "avg.sort('avg(rev_length)',ascending=True).show(10)\n",
    "\n",
    "print(\"************************\\n\")\n",
    "\n",
    "\n",
    "\n",
    "\n"
   ]
  },
  {
   "cell_type": "code",
   "execution_count": 16,
   "id": "5f669edd",
   "metadata": {},
   "outputs": [
    {
     "name": "stdout",
     "output_type": "stream",
     "text": [
      "************ 10 highly rated Restraunts **************\n"
     ]
    },
    {
     "name": "stderr",
     "output_type": "stream",
     "text": [
      "\r",
      "[Stage 25:>                                                         (0 + 1) / 1]\r"
     ]
    },
    {
     "name": "stdout",
     "output_type": "stream",
     "text": [
      "+--------------------+-----+\n",
      "|     business_id_rev|count|\n",
      "+--------------------+-----+\n",
      "|XXW_OFaYQkkGOGniu...| 2012|\n",
      "|A-uZAD4zP3rRxb44W...| 1201|\n",
      "|z6-reuC5BYf_Rth9g...|  957|\n",
      "|VsewHMsfj1Mgsl2i_...|  868|\n",
      "|6tSvz_21BMo3a4GaI...|  809|\n",
      "|DbEszO3wk1xVmN3pC...|  718|\n",
      "|Os1n1_idfw9vv9kwU...|  663|\n",
      "|0_aeYE2-VbsZts_Up...|  645|\n",
      "|DESv2ys6SjBKA4SyD...|  592|\n",
      "|1ZnVfS-qP19upP_fw...|  576|\n",
      "|-Ht7HiGBox8lS1Y8I...|  571|\n",
      "|iA8Ve2sZKN5Vz3mYK...|  546|\n",
      "|3Gt3xskppi9jZuTrw...|  544|\n",
      "|e41TP5cXZqSrz50xC...|  534|\n",
      "|FNe5PPA9pyj8FjcDe...|  533|\n",
      "|-WLrZPzjKfrftLWaC...|  515|\n",
      "|XC06xxb7FFYsXcI2E...|  487|\n",
      "|pik4ebdFa0UcUhnNk...|  463|\n",
      "|-av1lZI1JDY_RZN2e...|  449|\n",
      "|wKA2y-F_fPcBDOkpz...|  444|\n",
      "+--------------------+-----+\n",
      "only showing top 20 rows\n",
      "\n",
      "************************\n",
      "\n"
     ]
    },
    {
     "name": "stderr",
     "output_type": "stream",
     "text": [
      "\r",
      "                                                                                \r"
     ]
    }
   ],
   "source": [
    "print(\"************ 10 highly rated Restraunts **************\")\n",
    "\n",
    "review_star_three = fin1.filter('stars_rev_double >3')\n",
    "grouped_review = review_star_three.groupby('business_id_rev').count()\n",
    "review_sort = grouped_review.sort('count',ascending=False)\n",
    "review_sort.show()\n",
    "print(\"************************\\n\")\n"
   ]
  },
  {
   "cell_type": "code",
   "execution_count": 17,
   "id": "090b0a70",
   "metadata": {},
   "outputs": [
    {
     "name": "stdout",
     "output_type": "stream",
     "text": [
      "************ Restaurant Distribution **************\n"
     ]
    },
    {
     "name": "stderr",
     "output_type": "stream",
     "text": [
      "[Stage 29:==========================================================(1 + 0) / 1]\r"
     ]
    },
    {
     "name": "stdout",
     "output_type": "stream",
     "text": [
      "+----------------------------------------------------------------------------+-----+\n",
      "|category                                                                    |count|\n",
      "+----------------------------------------------------------------------------+-----+\n",
      "|Chinese;Restaurants                                                         |5478 |\n",
      "|Restaurants;Mexican                                                         |5240 |\n",
      "|Restaurants;Chinese                                                         |4760 |\n",
      "|Mexican;Restaurants                                                         |4521 |\n",
      "|Restaurants;Thai                                                            |3816 |\n",
      "|Bars;American (Traditional);Lounges;Nightlife;Breakfast & Brunch;Restaurants|2700 |\n",
      "|Thai;Restaurants                                                            |2427 |\n",
      "|Italian;Restaurants                                                         |2330 |\n",
      "|Restaurants;Vietnamese                                                      |1874 |\n",
      "|Vietnamese;Restaurants                                                      |1756 |\n",
      "+----------------------------------------------------------------------------+-----+\n",
      "only showing top 10 rows\n",
      "\n",
      "************************\n",
      "\n"
     ]
    },
    {
     "name": "stderr",
     "output_type": "stream",
     "text": [
      "\r",
      "                                                                                \r"
     ]
    }
   ],
   "source": [
    "print(\"************ Restaurant Distribution **************\")\n",
    "\n",
    "from pyspark.sql.functions import split,explode\n",
    "category = fin1.select('categories')\n",
    "restaurant_cat = category.select(explode(split('categories', ',')).alias('category'))\n",
    "group_category = restaurant_cat.groupby('category').count()\n",
    "top_category = group_category.sort('count',ascending=False)\n",
    "top_category.show(10,truncate=False)\n",
    "print(\"************************\\n\")\n"
   ]
  },
  {
   "cell_type": "code",
   "execution_count": null,
   "id": "a8bde86b",
   "metadata": {},
   "outputs": [],
   "source": []
  },
  {
   "cell_type": "code",
   "execution_count": null,
   "id": "9aa5dfac",
   "metadata": {},
   "outputs": [],
   "source": []
  },
  {
   "cell_type": "code",
   "execution_count": null,
   "id": "8fcfa5b6",
   "metadata": {},
   "outputs": [],
   "source": []
  }
 ],
 "metadata": {
  "kernelspec": {
   "display_name": "Python 3 (ipykernel)",
   "language": "python",
   "name": "python3"
  },
  "language_info": {
   "codemirror_mode": {
    "name": "ipython",
    "version": 3
   },
   "file_extension": ".py",
   "mimetype": "text/x-python",
   "name": "python",
   "nbconvert_exporter": "python",
   "pygments_lexer": "ipython3",
   "version": "3.9.12"
  }
 },
 "nbformat": 4,
 "nbformat_minor": 5
}
